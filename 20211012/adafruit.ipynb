{
  "nbformat": 4,
  "nbformat_minor": 0,
  "metadata": {
    "colab": {
      "name": "adafruit.ipynb",
      "provenance": [],
      "collapsed_sections": []
    },
    "kernelspec": {
      "name": "python3",
      "display_name": "Python 3"
    },
    "language_info": {
      "name": "python"
    }
  },
  "cells": [
    {
      "cell_type": "markdown",
      "metadata": {
        "id": "TGvOzx-Ak3F6"
      },
      "source": [
        "0. 在Google Colab 執行第一支Python程式"
      ]
    },
    {
      "cell_type": "code",
      "metadata": {
        "id": "Oyo-DA_0kbD9",
        "colab": {
          "base_uri": "https://localhost:8080/"
        },
        "outputId": "3f602685-a40e-4c95-958a-b3dcfb103d63"
      },
      "source": [
        "print(\"Google Colab Python HelloWorld!\")"
      ],
      "execution_count": 1,
      "outputs": [
        {
          "output_type": "stream",
          "name": "stdout",
          "text": [
            "Google Colab Python HelloWorld!\n"
          ]
        }
      ]
    },
    {
      "cell_type": "markdown",
      "metadata": {
        "id": "VqwNNbm7kIXc"
      },
      "source": [
        "1. 在Colab內安裝Python套件"
      ]
    },
    {
      "cell_type": "code",
      "metadata": {
        "id": "9hrEFDK9ihPw",
        "colab": {
          "base_uri": "https://localhost:8080/"
        },
        "outputId": "6d08bbc2-6f91-4c2e-e8d9-648d82272746"
      },
      "source": [
        "!pip install paho-mqtt"
      ],
      "execution_count": 3,
      "outputs": [
        {
          "output_type": "stream",
          "name": "stdout",
          "text": [
            "Requirement already satisfied: paho-mqtt in /usr/local/lib/python3.7/dist-packages (1.5.1)\n"
          ]
        }
      ]
    },
    {
      "cell_type": "markdown",
      "metadata": {
        "id": "7uba-4AGvxEu"
      },
      "source": [
        "2. 測試Subscribe(Adafruit.io)"
      ]
    },
    {
      "cell_type": "code",
      "metadata": {
        "id": "rT1143YCpG_J"
      },
      "source": [
        "import paho.mqtt.client as mqtt\n",
        "\n",
        "#訂閱[hcyang0207/feeds/home.humi]\n",
        "def on_connect(client, userdata, flags, rc):\n",
        "  print(\"Connected with result code \"+str(rc))\n",
        "  client.subscribe(\"hcyang0207/feeds/home.humi\")\n",
        "#收到訂閱\n",
        "def on_message(client, userdata, msg):\n",
        "  print(msg.topic+\" \"+ msg.payload.decode('utf-8'))\n",
        "\n",
        "client = mqtt.Client()\n",
        "client.on_connect = on_connect\n",
        "client.on_message = on_message\n",
        "client.username_pw_set(\"hcyang0207\",\"aio_BKwE178y7NDTg4K65198v3qWUObJ\")\n",
        "client.connect(\"io.adafruit.com\", 1883, 60)\n",
        "client.loop_forever()"
      ],
      "execution_count": null,
      "outputs": []
    },
    {
      "cell_type": "markdown",
      "metadata": {
        "id": "3ZErrtndv2Ew"
      },
      "source": [
        "3. 測試 Publish(Adafruit.io)"
      ]
    },
    {
      "cell_type": "code",
      "metadata": {
        "id": "1iWCf-Boqczy"
      },
      "source": [
        "import paho.mqtt.client as mqtt\n",
        "import random\n",
        "import json\n",
        "import time\n",
        "\n",
        "client = mqtt.Client()\n",
        "\n",
        "# 設定登入帳號密碼\n",
        "client.username_pw_set(\"hcyang0207\",\"aio_BKwE178y7NDTg4K65198v3qWUObJ\")\n",
        "client.connect(\"io.adafruit.com\", 1883, 60)\n",
        "\n",
        "while True:\n",
        "  #隨機濕度50~60\n",
        "  value = random.randint(50,60)\n",
        "  #送出訊息\n",
        "  payload = {\"value\":value}\n",
        "  print(payload)\n",
        "  #發送目的\n",
        "  client.publish(\"hcyang0207/feeds/home.humi\", json.dumps(payload))\n",
        "  time.sleep(5)"
      ],
      "execution_count": null,
      "outputs": []
    },
    {
      "cell_type": "markdown",
      "metadata": {
        "id": "Rxhc-gTTG0gD"
      },
      "source": [
        "4. 測試 Subscribe(AWS MQTT Server)"
      ]
    },
    {
      "cell_type": "code",
      "metadata": {
        "id": "tF_udHRSGlfR"
      },
      "source": [
        "import paho.mqtt.client as mqtt\n",
        "\n",
        "#訂閱[test]\n",
        "def on_connect(client, userdata, flags, rc):\n",
        "  print(\"Connected with result code \"+str(rc))\n",
        "  client.subscribe(\"test\")\n",
        "#收到訂閱\n",
        "def on_message(client, userdata, msg):\n",
        "  print(msg.topic+\" \"+ msg.payload.decode('utf-8'))\n",
        "\n",
        "client = mqtt.Client()\n",
        "client.on_connect = on_connect\n",
        "client.on_message = on_message\n",
        "#client.username_pw_set(\"test\",\"test123\")\n",
        "client.connect(\"141.164.46.83\", 1883, 60)\n",
        "client.loop_forever()"
      ],
      "execution_count": null,
      "outputs": []
    },
    {
      "cell_type": "markdown",
      "metadata": {
        "id": "_CYy3nFPG-bH"
      },
      "source": [
        "5. 測試 Publish(AWS MQTT Server)"
      ]
    },
    {
      "cell_type": "code",
      "metadata": {
        "id": "1sekWhrhHFDv"
      },
      "source": [
        "import paho.mqtt.client as mqtt\n",
        "import random\n",
        "import json\n",
        "import time\n",
        "\n",
        "client = mqtt.Client()\n",
        "\n",
        "# 設定登入帳號密碼\n",
        "#client.username_pw_set(\"test\",\"test123\")\n",
        "client.connect(\"141.164.46.83\", 1883, 60)\n",
        "\n",
        "while True:\n",
        "  #隨機濕度50~60\n",
        "  value = random.randint(50,60)\n",
        "  #送出訊息\n",
        "  payload = {\"value\":value}\n",
        "  print(payload)\n",
        "  #發送目的\n",
        "  client.publish(\"test\", json.dumps(payload))\n",
        "  time.sleep(5)"
      ],
      "execution_count": null,
      "outputs": []
    }
  ]
}